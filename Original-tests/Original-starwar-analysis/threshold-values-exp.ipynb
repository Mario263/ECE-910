{
 "cells": [
  {
   "cell_type": "code",
   "execution_count": 11,
   "id": "32e335b8-9892-49c6-b1e0-0a2a669d2f62",
   "metadata": {},
   "outputs": [
    {
     "name": "stdout",
     "output_type": "stream",
     "text": [
      "zsh:1: command not found: apt-get\n",
      "zsh:1: command not found: apt-get\n",
      "Requirement already satisfied: ffmpeg-python in /Users/mario/.pyenv/versions/3.11.11/lib/python3.11/site-packages (0.2.0)\n",
      "Requirement already satisfied: pillow in /Users/mario/.pyenv/versions/3.11.11/lib/python3.11/site-packages (11.1.0)\n",
      "Requirement already satisfied: future in /Users/mario/.pyenv/versions/3.11.11/lib/python3.11/site-packages (from ffmpeg-python) (1.0.0)\n",
      "\n",
      "\u001b[1m[\u001b[0m\u001b[34;49mnotice\u001b[0m\u001b[1;39;49m]\u001b[0m\u001b[39;49m A new release of pip is available: \u001b[0m\u001b[31;49m24.0\u001b[0m\u001b[39;49m -> \u001b[0m\u001b[32;49m25.0.1\u001b[0m\n",
      "\u001b[1m[\u001b[0m\u001b[34;49mnotice\u001b[0m\u001b[1;39;49m]\u001b[0m\u001b[39;49m To update, run: \u001b[0m\u001b[32;49mpip install --upgrade pip\u001b[0m\n",
      "Requirement already satisfied: einops in /Users/mario/.pyenv/versions/3.11.11/lib/python3.11/site-packages (0.8.1)\n",
      "\n",
      "\u001b[1m[\u001b[0m\u001b[34;49mnotice\u001b[0m\u001b[1;39;49m]\u001b[0m\u001b[39;49m A new release of pip is available: \u001b[0m\u001b[31;49m24.0\u001b[0m\u001b[39;49m -> \u001b[0m\u001b[32;49m25.0.1\u001b[0m\n",
      "\u001b[1m[\u001b[0m\u001b[34;49mnotice\u001b[0m\u001b[1;39;49m]\u001b[0m\u001b[39;49m To update, run: \u001b[0m\u001b[32;49mpip install --upgrade pip\u001b[0m\n",
      "Requirement already satisfied: opencv-python in /Users/mario/.pyenv/versions/3.11.11/lib/python3.11/site-packages (4.11.0.86)\n",
      "Requirement already satisfied: numpy>=1.21.2 in /Users/mario/.pyenv/versions/3.11.11/lib/python3.11/site-packages (from opencv-python) (2.2.2)\n",
      "\n",
      "\u001b[1m[\u001b[0m\u001b[34;49mnotice\u001b[0m\u001b[1;39;49m]\u001b[0m\u001b[39;49m A new release of pip is available: \u001b[0m\u001b[31;49m24.0\u001b[0m\u001b[39;49m -> \u001b[0m\u001b[32;49m25.0.1\u001b[0m\n",
      "\u001b[1m[\u001b[0m\u001b[34;49mnotice\u001b[0m\u001b[1;39;49m]\u001b[0m\u001b[39;49m To update, run: \u001b[0m\u001b[32;49mpip install --upgrade pip\u001b[0m\n"
     ]
    }
   ],
   "source": [
    "!apt-get update\n",
    "!apt-get -y install ffmpeg\n",
    "!pip install ffmpeg-python pillow\n",
    "!pip install einops\n",
    "!pip install opencv-python"
   ]
  },
  {
   "cell_type": "code",
   "execution_count": 5,
   "id": "499314b1-0b7e-4146-9900-3d7e1a0c5649",
   "metadata": {},
   "outputs": [
    {
     "name": "stdout",
     "output_type": "stream",
     "text": [
      "Requirement already satisfied: ffmpeg-python in /Users/mario/.pyenv/versions/3.11.11/lib/python3.11/site-packages (0.2.0)\n",
      "Requirement already satisfied: pillow in /Users/mario/.pyenv/versions/3.11.11/lib/python3.11/site-packages (11.1.0)\n",
      "Requirement already satisfied: einops in /Users/mario/.pyenv/versions/3.11.11/lib/python3.11/site-packages (0.8.1)\n",
      "Requirement already satisfied: opencv-python in /Users/mario/.pyenv/versions/3.11.11/lib/python3.11/site-packages (4.11.0.86)\n",
      "Requirement already satisfied: future in /Users/mario/.pyenv/versions/3.11.11/lib/python3.11/site-packages (from ffmpeg-python) (1.0.0)\n",
      "Requirement already satisfied: numpy>=1.21.2 in /Users/mario/.pyenv/versions/3.11.11/lib/python3.11/site-packages (from opencv-python) (2.2.2)\n",
      "\n",
      "\u001b[1m[\u001b[0m\u001b[34;49mnotice\u001b[0m\u001b[1;39;49m]\u001b[0m\u001b[39;49m A new release of pip is available: \u001b[0m\u001b[31;49m24.0\u001b[0m\u001b[39;49m -> \u001b[0m\u001b[32;49m25.0.1\u001b[0m\n",
      "\u001b[1m[\u001b[0m\u001b[34;49mnotice\u001b[0m\u001b[1;39;49m]\u001b[0m\u001b[39;49m To update, run: \u001b[0m\u001b[32;49mpip install --upgrade pip\u001b[0m\n",
      "Note: you may need to restart the kernel to use updated packages.\n"
     ]
    }
   ],
   "source": [
    "pip install ffmpeg-python pillow einops opencv-python"
   ]
  },
  {
   "cell_type": "code",
   "execution_count": 6,
   "id": "ebe7e3a1-88e5-42ac-8b16-b9d1d60f7e7d",
   "metadata": {},
   "outputs": [
    {
     "name": "stdout",
     "output_type": "stream",
     "text": [
      "\n",
      "Usage:   \n",
      "  /Users/mario/.pyenv/versions/3.11.11/bin/python -m pip install [options] <requirement specifier> [package-index-options] ...\n",
      "  /Users/mario/.pyenv/versions/3.11.11/bin/python -m pip install [options] -r <requirements file> [package-index-options] ...\n",
      "  /Users/mario/.pyenv/versions/3.11.11/bin/python -m pip install [options] [-e] <vcs project url> ...\n",
      "  /Users/mario/.pyenv/versions/3.11.11/bin/python -m pip install [options] [-e] <local project path> ...\n",
      "  /Users/mario/.pyenv/versions/3.11.11/bin/python -m pip install [options] <archive url/path> ...\n",
      "\n",
      "no such option: --cask\n",
      "Note: you may need to restart the kernel to use updated packages.\n"
     ]
    }
   ],
   "source": [
    "pip install --cask xquartz\n"
   ]
  },
  {
   "cell_type": "code",
   "execution_count": 1,
   "id": "335e18a9-45b8-4715-8055-5aa09d311de2",
   "metadata": {},
   "outputs": [
    {
     "name": "stdout",
     "output_type": "stream",
     "text": [
      "FFmpeg, OpenCV, Pillow, and Einops are installed correctly!\n"
     ]
    }
   ],
   "source": [
    "import ffmpeg\n",
    "import cv2\n",
    "from PIL import Image\n",
    "import einops\n",
    "\n",
    "print(\"FFmpeg, OpenCV, Pillow, and Einops are installed correctly!\")"
   ]
  },
  {
   "cell_type": "markdown",
   "id": "037e0ebe",
   "metadata": {},
   "source": [
    "FRAMES DETECTION \n"
   ]
  },
  {
   "cell_type": "code",
   "execution_count": 2,
   "id": "7e46152b-a514-4138-ad3f-75455c592803",
   "metadata": {},
   "outputs": [
    {
     "name": "stdout",
     "output_type": "stream",
     "text": [
      "Fetching Frames from: /Users/mario/Desktop/ece910/Wild-Bunch-output/The Wild Bunch (1969).mp4\n",
      "Total Frames: 520221\n",
      "Saved and compressed frames to /Users/mario/Desktop/ece910/Wild-Bunch-output/Frames-extraction\n"
     ]
    }
   ],
   "source": [
    "import os\n",
    "import cv2\n",
    "from PIL import Image\n",
    "\n",
    "# Function to extract and compress video frames\n",
    "def video_to_pil_frames(video_path, output_dir, resize_dim=(224, 224), image_quality=85):\n",
    "    print(f\"Fetching Frames from: {video_path}\")\n",
    "    \n",
    "    # Create output directory if it doesn't exist\n",
    "    os.makedirs(output_dir, exist_ok=True)\n",
    "    \n",
    "    # Load video\n",
    "    video = cv2.VideoCapture(video_path)\n",
    "    total_frames = int(video.get(cv2.CAP_PROP_FRAME_COUNT))\n",
    "    print(f\"Total Frames: {total_frames}\")\n",
    "\n",
    "    for i in range(total_frames):\n",
    "        ret, frame = video.read()\n",
    "        if not ret:\n",
    "            break\n",
    "\n",
    "\n",
    "        frame_rgb = cv2.cvtColor(frame, cv2.COLOR_BGR2RGB)\n",
    "        \n",
    "\n",
    "        pil_image = Image.fromarray(frame_rgb)\n",
    "        \n",
    "\n",
    "        pil_image = pil_image.resize(resize_dim, Image.Resampling.LANCZOS)\n",
    "        \n",
    "\n",
    "        pil_image.save(f\"{output_dir}/frame_{i}.jpg\", format='JPEG', quality=image_quality)\n",
    "\n",
    "\n",
    "    video.release()\n",
    "    print(f\"Saved and compressed frames to {output_dir}\")\n",
    "\n",
    "# Define paths\n",
    "video_path = '/Users/mario/Desktop/ece910/Wild-Bunch-output/The Wild Bunch (1969).mp4'\n",
    "output_dir = '/Users/mario/Desktop/ece910/Wild-Bunch-output/Frames-extraction'\n",
    "\n",
    "# Extract and compress frames\n",
    "video_to_pil_frames(video_path, output_dir)\n"
   ]
  },
  {
   "cell_type": "markdown",
   "id": "757d9697",
   "metadata": {},
   "source": [
    "TO create the JSON file "
   ]
  },
  {
   "cell_type": "code",
   "execution_count": 2,
   "id": "973523ac",
   "metadata": {},
   "outputs": [
    {
     "name": "stdout",
     "output_type": "stream",
     "text": [
      "Collecting scenedetect\n",
      "  Downloading scenedetect-0.6.5.2-py3-none-any.whl.metadata (4.0 kB)\n",
      "Requirement already satisfied: Click in /Users/mario/.pyenv/versions/3.10.13/lib/python3.10/site-packages (from scenedetect) (8.1.7)\n",
      "Requirement already satisfied: numpy in /Users/mario/.pyenv/versions/3.10.13/lib/python3.10/site-packages (from scenedetect) (1.26.1)\n",
      "Requirement already satisfied: platformdirs in /Users/mario/.pyenv/versions/3.10.13/lib/python3.10/site-packages (from scenedetect) (3.11.0)\n",
      "Requirement already satisfied: tqdm in /Users/mario/.pyenv/versions/3.10.13/lib/python3.10/site-packages (from scenedetect) (4.66.2)\n",
      "Downloading scenedetect-0.6.5.2-py3-none-any.whl (127 kB)\n",
      "Installing collected packages: scenedetect\n",
      "Successfully installed scenedetect-0.6.5.2\n",
      "\n",
      "\u001b[1m[\u001b[0m\u001b[34;49mnotice\u001b[0m\u001b[1;39;49m]\u001b[0m\u001b[39;49m A new release of pip is available: \u001b[0m\u001b[31;49m25.0\u001b[0m\u001b[39;49m -> \u001b[0m\u001b[32;49m25.0.1\u001b[0m\n",
      "\u001b[1m[\u001b[0m\u001b[34;49mnotice\u001b[0m\u001b[1;39;49m]\u001b[0m\u001b[39;49m To update, run: \u001b[0m\u001b[32;49mpip install --upgrade pip\u001b[0m\n",
      "Note: you may need to restart the kernel to use updated packages.\n"
     ]
    }
   ],
   "source": [
    "pip install scenedetect --upgrade"
   ]
  },
  {
   "cell_type": "code",
   "execution_count": 5,
   "id": "e0d17eb9",
   "metadata": {},
   "outputs": [
    {
     "name": "stdout",
     "output_type": "stream",
     "text": [
      "\n",
      "🔍 Detecting shot boundaries...\n",
      "✅ Detected 1857 sequences.\n",
      "\n",
      "📂 Organizing frames into sequences...\n",
      "\n"
     ]
    },
    {
     "name": "stderr",
     "output_type": "stream",
     "text": [
      "📂 Organizing Sequences: 100%|██████████| 1857/1857 [07:39<00:00,  4.04it/s]\n"
     ]
    },
    {
     "name": "stdout",
     "output_type": "stream",
     "text": [
      "\n",
      "✅ JSON metadata saved at: /Users/mario/Desktop/ece910/Wild-Bunch-output/WildBunch.json\n",
      "\n",
      "🔑 Extracting keyshots from sequences...\n",
      "\n"
     ]
    },
    {
     "name": "stderr",
     "output_type": "stream",
     "text": [
      "🔑 Processing Sequences: 100%|██████████| 1857/1857 [03:00<00:00, 10.29it/s]"
     ]
    },
    {
     "name": "stdout",
     "output_type": "stream",
     "text": [
      "\n",
      "✅ Keyshot extraction complete!\n"
     ]
    },
    {
     "name": "stderr",
     "output_type": "stream",
     "text": [
      "\n"
     ]
    }
   ],
   "source": [
    "import os\n",
    "import cv2\n",
    "import json\n",
    "import numpy as np\n",
    "import shutil\n",
    "from tqdm import tqdm\n",
    "from scenedetect import detect, ContentDetector\n",
    "\n",
    "# Define paths\n",
    "INPUT_DIR = \"/Users/mario/Desktop/ece910/Wild-Bunch-output/Frames-extraction\"  # Directory containing all extracted frames\n",
    "OUTPUT_DIR = \"/Users/mario/Desktop/ece910/Wild-Bunch-output/histogram-output-sequences\"  # Directory where segregated sequences will be saved\n",
    "VIDEO_PATH = \"/Users/mario/Desktop/ece910/Wild-Bunch-output/TheWildBunch(1969).mp4\"  # Full video path for shot detection # Full video path for shot detection\n",
    "JSON_PATH = \"/Users/mario/Desktop/ece910/Wild-Bunch-output/WildBunch.json\"  # Path to save JSON tracking file\n",
    "\n",
    "# Ensure output directory exists\n",
    "os.makedirs(OUTPUT_DIR, exist_ok=True)\n",
    "\n",
    "# Step 1: Detect shot boundaries using PySceneDetect\n",
    "def detect_shot_boundaries(video_path):\n",
    "    print(\"\\n🔍 Detecting shot boundaries...\")\n",
    "    scene_list = detect(video_path, ContentDetector())\n",
    "    boundaries = [(scene[0].get_frames(), scene[1].get_frames()) for scene in scene_list]\n",
    "    print(f\"✅ Detected {len(boundaries)} sequences.\\n\")\n",
    "    return boundaries\n",
    "\n",
    "# Step 2: Organize frames into sequences and save metadata\n",
    "def organize_frames_by_sequence(frame_dir, boundaries):\n",
    "    print(\"📂 Organizing frames into sequences...\\n\")\n",
    "    frames = sorted([f for f in os.listdir(frame_dir) if f.endswith(\".jpg\") or f.endswith(\".png\")])\n",
    "    \n",
    "    sequences_metadata = {\"sequences\": []}  # JSON structure\n",
    "\n",
    "    for i, (start, end) in tqdm(enumerate(boundaries, 1), total=len(boundaries), desc=\"📂 Organizing Sequences\"):\n",
    "        seq_dir = os.path.join(OUTPUT_DIR, f\"sequence_{i}\")\n",
    "        os.makedirs(seq_dir, exist_ok=True)\n",
    "\n",
    "        for frame in frames:\n",
    "            frame_num = int(frame.split(\".\")[0].replace(\"frame_\", \"\"))\n",
    "            if start <= frame_num <= end:\n",
    "                shutil.copy(os.path.join(frame_dir, frame), os.path.join(seq_dir, frame))\n",
    "\n",
    "        # Store sequence metadata\n",
    "        sequences_metadata[\"sequences\"].append({\n",
    "            \"sequence_id\": i,\n",
    "            \"start_frame\": start,\n",
    "            \"end_frame\": end\n",
    "        })\n",
    "\n",
    "    # Save JSON file\n",
    "    with open(JSON_PATH, \"w\") as json_file:\n",
    "        json.dump(sequences_metadata, json_file, indent=4)\n",
    "\n",
    "    print(f\"\\n✅ JSON metadata saved at: {JSON_PATH}\")\n",
    "\n",
    "# Step 3: Extract keyshots using histogram difference method\n",
    "def extract_keyshots(sequence_dir):\n",
    "    frames = sorted([f for f in os.listdir(sequence_dir) if f.endswith(\".jpg\") or f.endswith(\".png\")])\n",
    "    keyshots = []\n",
    "\n",
    "    if not frames:\n",
    "        return keyshots\n",
    "\n",
    "    prev_hist = None\n",
    "    for frame in tqdm(frames, desc=f\"📸 Extracting Keyshots ({os.path.basename(sequence_dir)})\", leave=False):\n",
    "        frame_path = os.path.join(sequence_dir, frame)\n",
    "        image = cv2.imread(frame_path, cv2.IMREAD_GRAYSCALE)\n",
    "\n",
    "        hist = cv2.calcHist([image], [0], None, [256], [0, 256])\n",
    "        hist = cv2.normalize(hist, hist).flatten()\n",
    "\n",
    "        if prev_hist is None or cv2.compareHist(prev_hist, hist, cv2.HISTCMP_BHATTACHARYYA) > 0.3:\n",
    "            keyshots.append(frame_path)\n",
    "            prev_hist = hist\n",
    "\n",
    "    return keyshots\n",
    "\n",
    "# Main Execution\n",
    "if __name__ == \"__main__\":\n",
    "    boundaries = detect_shot_boundaries(VIDEO_PATH)\n",
    "\n",
    "    organize_frames_by_sequence(INPUT_DIR, boundaries)\n",
    "\n",
    "    print(\"\\n🔑 Extracting keyshots from sequences...\\n\")\n",
    "    for seq in tqdm(os.listdir(OUTPUT_DIR), desc=\"🔑 Processing Sequences\"):\n",
    "        seq_path = os.path.join(OUTPUT_DIR, seq)\n",
    "        keyshots = extract_keyshots(seq_path)\n",
    "\n",
    "        # Save keyshots in a separate folder\n",
    "        keyshot_dir = os.path.join(seq_path, \"keyshots\")\n",
    "        os.makedirs(keyshot_dir, exist_ok=True)\n",
    "\n",
    "        for shot in tqdm(keyshots, desc=f\"📂 Saving Keyshots ({seq})\", leave=False):\n",
    "            shutil.copy(shot, os.path.join(keyshot_dir, os.path.basename(shot)))\n",
    "\n",
    "    print(\"\\n✅ Keyshot extraction complete!\")"
   ]
  },
  {
   "cell_type": "markdown",
   "id": "1800760a",
   "metadata": {},
   "source": [
    "Optical flow"
   ]
  },
  {
   "cell_type": "code",
   "execution_count": null,
   "id": "2a5370ec",
   "metadata": {},
   "outputs": [
    {
     "name": "stdout",
     "output_type": "stream",
     "text": [
      "\n",
      "🔍 Detecting shot boundaries...\n",
      "✅ Detected 2349 sequences.\n",
      "\n",
      "📂 Organizing frames into sequences...\n",
      "\n"
     ]
    },
    {
     "name": "stderr",
     "output_type": "stream",
     "text": [
      "📂 Organizing Sequences: 100%|██████████| 2349/2349 [02:51<00:00, 13.69it/s]\n"
     ]
    },
    {
     "name": "stdout",
     "output_type": "stream",
     "text": [
      "\n",
      "✅ JSON metadata saved at: /Users/mario/Desktop/ece910/sequences_metadata.json\n",
      "\n",
      "🔑 Extracting keyshots from sequences...\n",
      "\n"
     ]
    },
    {
     "name": "stderr",
     "output_type": "stream",
     "text": [
      "🔑 Processing Sequences: 100%|██████████| 2349/2349 [01:01<00:00, 38.20it/s]"
     ]
    },
    {
     "name": "stdout",
     "output_type": "stream",
     "text": [
      "\n",
      "✅ Keyshot extraction complete!\n"
     ]
    },
    {
     "name": "stderr",
     "output_type": "stream",
     "text": [
      "\n"
     ]
    }
   ],
   "source": [
    "import os\n",
    "import cv2\n",
    "import json\n",
    "import numpy as np\n",
    "import shutil\n",
    "from tqdm import tqdm\n",
    "from scenedetect import detect, ContentDetector\n",
    "\n",
    "# Define paths\n",
    "INPUT_DIR = \"/Users/mario/Desktop/ece910/Frames-extraction\"  # Directory containing all extracted frames\n",
    "OUTPUT_DIR = \"/Users/mario/Desktop/ece910/Optical-flow\"  # Directory where segregated sequences will be saved\n",
    "VIDEO_PATH = \"/Users/mario/Desktop/ece910/Star Wars (1977).mp4\"  # Full video path for shot detection\n",
    "JSON_PATH = \"/Users/mario/Desktop/ece910/sequences_metadata.json\"  # Path to save JSON tracking file\n",
    "\n",
    "# Ensure output directory exists\n",
    "os.makedirs(OUTPUT_DIR, exist_ok=True)\n",
    "\n",
    "# Step 1: Detect shot boundaries using PySceneDetect\n",
    "def detect_shot_boundaries(video_path):\n",
    "    print(\"\\n🔍 Detecting shot boundaries...\")\n",
    "    scene_list = detect(video_path, ContentDetector())\n",
    "    boundaries = [(scene[0].get_frames(), scene[1].get_frames()) for scene in scene_list]\n",
    "    print(f\"✅ Detected {len(boundaries)} sequences.\\n\")\n",
    "    return boundaries\n",
    "\n",
    "# Step 2: Organize frames into sequences and save metadata\n",
    "def organize_frames_by_sequence(frame_dir, boundaries):\n",
    "    print(\"📂 Organizing frames into sequences...\\n\")\n",
    "    frames = sorted([f for f in os.listdir(frame_dir) if f.endswith(\".jpg\") or f.endswith(\".png\")])\n",
    "    \n",
    "    sequences_metadata = {\"sequences\": []}  # JSON structure\n",
    "\n",
    "    for i, (start, end) in tqdm(enumerate(boundaries, 1), total=len(boundaries), desc=\"📂 Organizing Sequences\"):\n",
    "        seq_dir = os.path.join(OUTPUT_DIR, f\"sequence_{i}\")\n",
    "        os.makedirs(seq_dir, exist_ok=True)\n",
    "\n",
    "        for frame in frames:\n",
    "            frame_num = int(frame.split(\".\")[0].replace(\"frame_\", \"\"))\n",
    "            if start <= frame_num <= end:\n",
    "                shutil.copy(os.path.join(frame_dir, frame), os.path.join(seq_dir, frame))\n",
    "\n",
    "        # Store sequence metadata\n",
    "        sequences_metadata[\"sequences\"].append({\n",
    "            \"sequence_id\": i,\n",
    "            \"start_frame\": start,\n",
    "            \"end_frame\": end\n",
    "        })\n",
    "\n",
    "    # Save JSON file\n",
    "    with open(JSON_PATH, \"w\") as json_file:\n",
    "        json.dump(sequences_metadata, json_file, indent=4)\n",
    "\n",
    "    print(f\"\\n✅ JSON metadata saved at: {JSON_PATH}\")\n",
    "\n",
    "# Step 3: Extract keyshots using histogram difference method\n",
    "def extract_keyshots_optical_flow(sequence_dir, threshold=0.5):\n",
    "    \"\"\"\n",
    "    Extract keyshots from a sequence using Dense Optical Flow.\n",
    "\n",
    "    Parameters:\n",
    "        sequence_dir (str): Path to the sequence directory.\n",
    "        threshold (float): Motion magnitude threshold to select keyshots.\n",
    "    \n",
    "    Returns:\n",
    "        list: List of keyshot file paths.\n",
    "    \"\"\"\n",
    "    frames = sorted([f for f in os.listdir(sequence_dir) if f.endswith(\".jpg\") or f.endswith(\".png\")])\n",
    "    keyshots = []\n",
    "\n",
    "    if len(frames) < 2:\n",
    "        return keyshots  # Not enough frames to compute optical flow\n",
    "\n",
    "    prev_frame = cv2.imread(os.path.join(sequence_dir, frames[0]), cv2.IMREAD_GRAYSCALE)\n",
    "    prev_gray = cv2.GaussianBlur(prev_frame, (5, 5), 0)\n",
    "\n",
    "    for i, frame in tqdm(enumerate(frames[1:], 1), total=len(frames) - 1, desc=f\"🎥 Optical Flow ({os.path.basename(sequence_dir)})\", leave=False):\n",
    "        frame_path = os.path.join(sequence_dir, frame)\n",
    "        curr_frame = cv2.imread(frame_path, cv2.IMREAD_GRAYSCALE)\n",
    "        curr_gray = cv2.GaussianBlur(curr_frame, (5, 5), 0)\n",
    "\n",
    "        # Compute Dense Optical Flow\n",
    "        flow = cv2.calcOpticalFlowFarneback(prev_gray, curr_gray, None, 0.5, 3, 15, 3, 5, 1.2, 0)\n",
    "\n",
    "        # Compute motion magnitude\n",
    "        mag, _ = cv2.cartToPolar(flow[..., 0], flow[..., 1])\n",
    "\n",
    "        # Get mean motion magnitude\n",
    "        mean_motion = np.mean(mag)\n",
    "\n",
    "        # If motion magnitude exceeds threshold, save frame as keyshot\n",
    "        if mean_motion > threshold:\n",
    "            keyshots.append(frame_path)\n",
    "\n",
    "        prev_gray = curr_gray  # Update for next iteration\n",
    "\n",
    "    return keyshots\n",
    "\n",
    "# Main Execution\n",
    "if __name__ == \"__main__\":\n",
    "    boundaries = detect_shot_boundaries(VIDEO_PATH)\n",
    "\n",
    "    organize_frames_by_sequence(INPUT_DIR, boundaries)\n",
    "\n",
    "    print(\"\\n🔑 Extracting keyshots from sequences...\\n\")\n",
    "    for seq in tqdm(os.listdir(OUTPUT_DIR), desc=\"🔑 Processing Sequences\"):\n",
    "        seq_path = os.path.join(OUTPUT_DIR, seq)\n",
    "        keyshots = extract_keyshots(seq_path)\n",
    "\n",
    "        # Save keyshots in a separate folder\n",
    "        keyshot_dir = os.path.join(seq_path, \"keyshots\")\n",
    "        os.makedirs(keyshot_dir, exist_ok=True)\n",
    "\n",
    "        for shot in tqdm(keyshots, desc=f\"📂 Saving Keyshots ({seq})\", leave=False):\n",
    "            shutil.copy(shot, os.path.join(keyshot_dir, os.path.basename(shot)))\n",
    "\n",
    "    print(\"\\n✅ Keyshot extraction complete!\")"
   ]
  },
  {
   "cell_type": "markdown",
   "id": "934b8451",
   "metadata": {},
   "source": [
    "SigLIP\n"
   ]
  },
  {
   "cell_type": "code",
   "execution_count": null,
   "id": "c607114c",
   "metadata": {},
   "outputs": [
    {
     "name": "stdout",
     "output_type": "stream",
     "text": [
      "\n",
      "🔍 Detecting shot boundaries...\n",
      "✅ Detected 2349 sequences.\n",
      "\n",
      "📂 Organizing frames into sequences...\n",
      "\n"
     ]
    },
    {
     "name": "stderr",
     "output_type": "stream",
     "text": [
      "📂 Organizing Sequences: 100%|██████████| 2349/2349 [02:42<00:00, 14.45it/s]\n"
     ]
    },
    {
     "name": "stdout",
     "output_type": "stream",
     "text": [
      "\n",
      "✅ JSON metadata saved at: /Users/mario/Desktop/ece910/sequences_metadata.json\n",
      "\n",
      "🔑 Extracting keyshots from sequences...\n",
      "\n"
     ]
    },
    {
     "name": "stderr",
     "output_type": "stream",
     "text": [
      "🔑 Processing Sequences: 100%|██████████| 2349/2349 [2:19:46<00:00,  3.57s/it]  "
     ]
    },
    {
     "name": "stdout",
     "output_type": "stream",
     "text": [
      "\n",
      "✅ Keyshot extraction complete!\n"
     ]
    },
    {
     "name": "stderr",
     "output_type": "stream",
     "text": [
      "\n"
     ]
    }
   ],
   "source": [
    "import os\n",
    "import json\n",
    "import shutil\n",
    "import torch\n",
    "from tqdm import tqdm\n",
    "from PIL import Image\n",
    "from transformers import CLIPProcessor, CLIPModel\n",
    "from scenedetect import detect, ContentDetector\n",
    "\n",
    "# Define paths\n",
    "INPUT_DIR = \"/Users/mario/Desktop/ece910/Frames-extraction\"  # Directory containing all extracted frames\n",
    "OUTPUT_DIR = \"/Users/mario/Desktop/ece910/SigLIP\"  # Directory where segregated sequences will be saved\n",
    "VIDEO_PATH = \"/Users/mario/Desktop/ece910/Star Wars (1977).mp4\"  # Full video path for shot detection\n",
    "JSON_PATH = \"/Users/mario/Desktop/ece910/sequences_metadata.json\"  # Path to save JSON tracking file\n",
    "\n",
    "# Ensure output directory exists\n",
    "os.makedirs(OUTPUT_DIR, exist_ok=True)\n",
    "\n",
    "# Load CLIP (SigLIP) model\n",
    "model = CLIPModel.from_pretrained(\"openai/clip-vit-base-patch32\")\n",
    "processor = CLIPProcessor.from_pretrained(\"openai/clip-vit-base-patch32\")\n",
    "\n",
    "# Function to extract image embeddings\n",
    "def get_image_embedding(image_path):\n",
    "    \"\"\"Extract embedding from an image using SigLIP (CLIP).\"\"\"\n",
    "    image = Image.open(image_path).convert(\"RGB\")\n",
    "    inputs = processor(images=image, return_tensors=\"pt\")\n",
    "    with torch.no_grad():\n",
    "        embedding = model.get_image_features(**inputs)\n",
    "    return embedding.squeeze()\n",
    "\n",
    "# Step 1: Detect shot boundaries using PySceneDetect\n",
    "def detect_shot_boundaries(video_path):\n",
    "    print(\"\\n🔍 Detecting shot boundaries...\")\n",
    "    scene_list = detect(video_path, ContentDetector())\n",
    "    boundaries = [(scene[0].get_frames(), scene[1].get_frames()) for scene in scene_list]\n",
    "    print(f\"✅ Detected {len(boundaries)} sequences.\\n\")\n",
    "    return boundaries\n",
    "\n",
    "# Step 2: Organize frames into sequences and save metadata\n",
    "def organize_frames_by_sequence(frame_dir, boundaries):\n",
    "    print(\"📂 Organizing frames into sequences...\\n\")\n",
    "    frames = sorted([f for f in os.listdir(frame_dir) if f.endswith(\".jpg\") or f.endswith(\".png\")])\n",
    "    \n",
    "    sequences_metadata = {\"sequences\": []}  # JSON structure\n",
    "\n",
    "    for i, (start, end) in tqdm(enumerate(boundaries, 1), total=len(boundaries), desc=\"📂 Organizing Sequences\"):\n",
    "        seq_dir = os.path.join(OUTPUT_DIR, f\"sequence_{i}\")\n",
    "        os.makedirs(seq_dir, exist_ok=True)\n",
    "\n",
    "        for frame in frames:\n",
    "            frame_num = int(frame.split(\".\")[0].replace(\"frame_\", \"\"))\n",
    "            if start <= frame_num <= end:\n",
    "                shutil.copy(os.path.join(frame_dir, frame), os.path.join(seq_dir, frame))\n",
    "\n",
    "        # Store sequence metadata\n",
    "        sequences_metadata[\"sequences\"].append({\n",
    "            \"sequence_id\": i,\n",
    "            \"start_frame\": start,\n",
    "            \"end_frame\": end\n",
    "        })\n",
    "\n",
    "    # Save JSON file\n",
    "    with open(JSON_PATH, \"w\") as json_file:\n",
    "        json.dump(sequences_metadata, json_file, indent=4)\n",
    "\n",
    "    print(f\"\\n✅ JSON metadata saved at: {JSON_PATH}\")\n",
    "\n",
    "# Step 3: Extract keyshots using SigLIP embeddings\n",
    "def extract_keyshots_sigilp(sequence_dir, threshold=0.8):\n",
    "    \"\"\"\n",
    "    Extract keyshots from a sequence using SigLIP embeddings.\n",
    "\n",
    "    Parameters:\n",
    "        sequence_dir (str): Path to the sequence directory.\n",
    "        threshold (float): Cosine similarity threshold.\n",
    "\n",
    "    Returns:\n",
    "        list: List of keyshot file paths.\n",
    "    \"\"\"\n",
    "    frames = sorted([f for f in os.listdir(sequence_dir) if f.endswith(\".jpg\") or f.endswith(\".png\")])\n",
    "    keyshots = []\n",
    "\n",
    "    if len(frames) < 2:\n",
    "        return keyshots  # Not enough frames to compute similarity\n",
    "\n",
    "    prev_embedding = get_image_embedding(os.path.join(sequence_dir, frames[0]))\n",
    "\n",
    "    for frame in tqdm(frames[1:], desc=f\"🔍 SigLIP Keyshots ({os.path.basename(sequence_dir)})\", leave=False):\n",
    "        frame_path = os.path.join(sequence_dir, frame)\n",
    "        curr_embedding = get_image_embedding(frame_path)\n",
    "\n",
    "        # Compute Cosine Similarity\n",
    "        similarity = torch.nn.functional.cosine_similarity(prev_embedding, curr_embedding, dim=0)\n",
    "\n",
    "        # If similarity drops below threshold, consider it a keyshot\n",
    "        if similarity < threshold:\n",
    "            keyshots.append(frame_path)\n",
    "\n",
    "        prev_embedding = curr_embedding\n",
    "\n",
    "    return keyshots\n",
    "\n",
    "# Main Execution\n",
    "if __name__ == \"__main__\":\n",
    "    # Step 1: Detect shot boundaries\n",
    "    boundaries = detect_shot_boundaries(VIDEO_PATH)\n",
    "\n",
    "    # Step 2: Organize frames into sequences\n",
    "    organize_frames_by_sequence(INPUT_DIR, boundaries)\n",
    "\n",
    "    # Step 3: Extract keyshots using SigLIP\n",
    "    print(\"\\n🔑 Extracting keyshots from sequences...\\n\")\n",
    "    for seq in tqdm(os.listdir(OUTPUT_DIR), desc=\"🔑 Processing Sequences\"):\n",
    "        seq_path = os.path.join(OUTPUT_DIR, seq)\n",
    "        keyshots = extract_keyshots_sigilp(seq_path)\n",
    "\n",
    "        # Save keyshots in a separate folder\n",
    "        keyshot_dir = os.path.join(seq_path, \"keyshots\")\n",
    "        os.makedirs(keyshot_dir, exist_ok=True)\n",
    "\n",
    "        for shot in tqdm(keyshots, desc=f\"📂 Saving Keyshots ({seq})\", leave=False):\n",
    "            shutil.copy(shot, os.path.join(keyshot_dir, os.path.basename(shot)))\n",
    "\n",
    "    print(\"\\n✅ Keyshot extraction complete!\")"
   ]
  },
  {
   "cell_type": "markdown",
   "id": "58e847e0",
   "metadata": {},
   "source": [
    "Now i am working on the delta time difference between the keyshots and the  snapshots and the frames "
   ]
  },
  {
   "cell_type": "markdown",
   "id": "5686bdbe",
   "metadata": {},
   "source": []
  },
  {
   "cell_type": "code",
   "execution_count": 1,
   "id": "7c5c26d9",
   "metadata": {},
   "outputs": [
    {
     "name": "stdout",
     "output_type": "stream",
     "text": [
      "🎥 Video FPS: 59.94\n"
     ]
    },
    {
     "name": "stderr",
     "output_type": "stream",
     "text": [
      "⏱️ Computing Timestamps: 100%|██████████| 1857/1857 [00:00<00:00, 695244.36it/s]"
     ]
    },
    {
     "name": "stdout",
     "output_type": "stream",
     "text": [
      "\n",
      "✅ Timestamp JSON saved at: /Users/mario/Desktop/ece910/Wild-Bunch-output/WildBunch_timestamps.json\n"
     ]
    },
    {
     "name": "stderr",
     "output_type": "stream",
     "text": [
      "\n"
     ]
    }
   ],
   "source": [
    "import os\n",
    "import json\n",
    "import cv2\n",
    "from tqdm import tqdm\n",
    "\n",
    "# Paths\n",
    "VIDEO_PATH = \"/Users/mario/Desktop/ece910/Wild-Bunch-output/TheWildBunch(1969).mp4\"\n",
    "JSON_PATH = \"/Users/mario/Desktop/ece910/Wild-Bunch-output/WildBunch.json\"\n",
    "OUTPUT_JSON_PATH = \"/Users/mario/Desktop/ece910/Wild-Bunch-output/WildBunch_timestamps.json\"\n",
    "\n",
    "# Step 1: Get FPS from video\n",
    "def get_video_fps(video_path):\n",
    "    cap = cv2.VideoCapture(video_path)\n",
    "    fps = cap.get(cv2.CAP_PROP_FPS)\n",
    "    cap.release()\n",
    "    return fps\n",
    "\n",
    "# Step 2: Convert Frame Numbers to Time Stamps\n",
    "def compute_time_stamps(json_path, fps):\n",
    "    with open(json_path, \"r\") as f:\n",
    "        data = json.load(f)\n",
    "    \n",
    "    sequences_with_timestamps = {\"sequences\": []}\n",
    "\n",
    "    for sequence in tqdm(data[\"sequences\"], desc=\"⏱️ Computing Timestamps\"):\n",
    "        start_frame = sequence[\"start_frame\"]\n",
    "        end_frame = sequence[\"end_frame\"]\n",
    "\n",
    "        start_time = start_frame / fps  # Convert frame to time in seconds\n",
    "        end_time = end_frame / fps\n",
    "        delta_time = end_time - start_time\n",
    "\n",
    "        sequences_with_timestamps[\"sequences\"].append({\n",
    "            \"sequence_id\": sequence[\"sequence_id\"],\n",
    "            \"start_frame\": start_frame,\n",
    "            \"end_frame\": end_frame,\n",
    "            \"start_time\": f\"{start_time:.3f} sec\",\n",
    "            \"end_time\": f\"{end_time:.3f} sec\",\n",
    "            \"duration\": f\"{delta_time:.3f} sec\"\n",
    "        })\n",
    "\n",
    "    return sequences_with_timestamps\n",
    "\n",
    "# Step 3: Run the Pipeline\n",
    "if __name__ == \"__main__\":\n",
    "    fps = get_video_fps(VIDEO_PATH)\n",
    "    print(f\"🎥 Video FPS: {fps}\")\n",
    "\n",
    "    sequences_with_timestamps = compute_time_stamps(JSON_PATH, fps)\n",
    "\n",
    "    # Save the new JSON with time stamps\n",
    "    with open(OUTPUT_JSON_PATH, \"w\") as f:\n",
    "        json.dump(sequences_with_timestamps, f, indent=4)\n",
    "\n",
    "    print(f\"\\n✅ Timestamp JSON saved at: {OUTPUT_JSON_PATH}\")"
   ]
  },
  {
   "cell_type": "markdown",
   "id": "2a5efcd2",
   "metadata": {},
   "source": [
    "converting the json to a csv representation"
   ]
  },
  {
   "cell_type": "code",
   "execution_count": 2,
   "id": "499a6bb1",
   "metadata": {},
   "outputs": [
    {
     "name": "stdout",
     "output_type": "stream",
     "text": [
      "✅ CSV file saved at: /Users/mario/Desktop/ece910/Wild-Bunch-output/WildBunch_timestamps.csv\n"
     ]
    }
   ],
   "source": [
    "import json\n",
    "import pandas as pd\n",
    "\n",
    "# Paths\n",
    "JSON_PATH = \"/Users/mario/Desktop/ece910/Wild-Bunch-output/WildBunch_timestamps.json\"\n",
    "CSV_PATH = \"/Users/mario/Desktop/ece910/Wild-Bunch-output/WildBunch_timestamps.csv\"\n",
    "\n",
    "# Step 1: Load JSON File\n",
    "with open(JSON_PATH, \"r\") as f:\n",
    "    data = json.load(f)\n",
    "\n",
    "# Step 2: Extract Data into a Pandas DataFrame\n",
    "df = pd.DataFrame(data[\"sequences\"])\n",
    "\n",
    "# Step 3: Save to CSV\n",
    "df.to_csv(CSV_PATH, index=False)\n",
    "\n",
    "print(f\"✅ CSV file saved at: {CSV_PATH}\")"
   ]
  },
  {
   "cell_type": "markdown",
   "id": "2e0d389d",
   "metadata": {},
   "source": [
    "Annotating the keyshots"
   ]
  },
  {
   "cell_type": "markdown",
   "id": "0b89efb9",
   "metadata": {},
   "source": [
    "storing the keyshots"
   ]
  },
  {
   "cell_type": "code",
   "execution_count": 3,
   "id": "aa6081f9",
   "metadata": {},
   "outputs": [
    {
     "name": "stderr",
     "output_type": "stream",
     "text": [
      "📂 Processing Sequences: 100%|██████████| 1858/1858 [00:01<00:00, 1351.25it/s]"
     ]
    },
    {
     "name": "stdout",
     "output_type": "stream",
     "text": [
      "\n",
      "✅ All keyshots copied to: /Users/mario/Desktop/ece910/Wild-Bunch-output/keyshots\n"
     ]
    },
    {
     "name": "stderr",
     "output_type": "stream",
     "text": [
      "\n"
     ]
    }
   ],
   "source": [
    "import os\n",
    "import shutil\n",
    "from tqdm import tqdm\n",
    "\n",
    "# Define paths\n",
    "SEQUENCES_DIR = \"/Users/mario/Desktop/ece910/Wild-Bunch-output/histogram-output-sequences\"\n",
    "OUTPUT_KEYSHOT_DIR = \"/Users/mario/Desktop/ece910/Wild-Bunch-output/keyshots\"\n",
    "\n",
    "# Ensure the output keyshots directory exists\n",
    "os.makedirs(OUTPUT_KEYSHOT_DIR, exist_ok=True)\n",
    "\n",
    "# Step 1: Iterate through each sequence directory\n",
    "for sequence_folder in tqdm(sorted(os.listdir(SEQUENCES_DIR)), desc=\"📂 Processing Sequences\"):\n",
    "    sequence_path = os.path.join(SEQUENCES_DIR, sequence_folder)\n",
    "    keyshot_path = os.path.join(sequence_path, \"keyshots\")\n",
    "\n",
    "    # Check if keyshot directory exists inside the sequence folder\n",
    "    if os.path.exists(keyshot_path):\n",
    "        for keyshot in os.listdir(keyshot_path):\n",
    "            keyshot_src = os.path.join(keyshot_path, keyshot)\n",
    "            keyshot_dest = os.path.join(OUTPUT_KEYSHOT_DIR, keyshot)\n",
    "\n",
    "            # Copy keyshot to central directory\n",
    "            shutil.copy(keyshot_src, keyshot_dest)\n",
    "\n",
    "print(f\"\\n✅ All keyshots copied to: {OUTPUT_KEYSHOT_DIR}\")"
   ]
  },
  {
   "cell_type": "code",
   "execution_count": 4,
   "id": "e58e53b6",
   "metadata": {},
   "outputs": [
    {
     "name": "stdout",
     "output_type": "stream",
     "text": [
      "\n",
      "✅ Annotation CSV created: /Users/mario/Desktop/ece910/Wild-Bunch-output/keyshot_annotations.csv\n",
      "👉 Open the CSV file and manually fill the 'action_category' column with one of the action labels.\n"
     ]
    }
   ],
   "source": [
    "import os\n",
    "import pandas as pd\n",
    "\n",
    "# Define keyshot directory\n",
    "KEYSHOT_DIR = \"/Users/mario/Desktop/ece910/Wild-Bunch-output/keyshots\"\n",
    "ANNOTATION_CSV = \"/Users/mario/Desktop/ece910/Wild-Bunch-output/keyshot_annotations.csv\"\n",
    "\n",
    "# Action categories\n",
    "ACTION_CATEGORIES = [\"Rescue\", \"Escape\", \"Capture\", \"Heist\", \"Fight\", \"Pursuit\", \"Speed\"]\n",
    "\n",
    "# Collect all keyshot file paths\n",
    "keyshots = sorted([os.path.join(KEYSHOT_DIR, f) for f in os.listdir(KEYSHOT_DIR) if f.endswith(('.jpg', '.png'))])\n",
    "\n",
    "# Create a DataFrame to store annotations\n",
    "annotations = pd.DataFrame({\n",
    "    \"file_path\": keyshots,\n",
    "    \"action_category\": [\"\"] * len(keyshots)  # Empty annotations to be filled\n",
    "})\n",
    "\n",
    "# Save initial CSV for manual annotation\n",
    "annotations.to_csv(ANNOTATION_CSV, index=False)\n",
    "\n",
    "print(f\"\\n✅ Annotation CSV created: {ANNOTATION_CSV}\")\n",
    "print(\"👉 Open the CSV file and manually fill the 'action_category' column with one of the action labels.\")"
   ]
  },
  {
   "cell_type": "markdown",
   "id": "410dfca5",
   "metadata": {},
   "source": [
    "automating the annotations"
   ]
  },
  {
   "cell_type": "code",
   "execution_count": 5,
   "id": "fd5e86a1",
   "metadata": {},
   "outputs": [
    {
     "name": "stderr",
     "output_type": "stream",
     "text": [
      "🔍 Annotating Keyshots: 100%|██████████| 2768/2768 [02:06<00:00, 21.91it/s]"
     ]
    },
    {
     "name": "stdout",
     "output_type": "stream",
     "text": [
      "\n",
      "✅ Automatic annotation complete! Annotations saved at: /Users/mario/Desktop/ece910/Wild-Bunch-output/keyshot_annotations.csv\n"
     ]
    },
    {
     "name": "stderr",
     "output_type": "stream",
     "text": [
      "\n"
     ]
    }
   ],
   "source": [
    "import os\n",
    "import torch\n",
    "import pandas as pd\n",
    "from tqdm import tqdm\n",
    "from PIL import Image\n",
    "from transformers import CLIPProcessor, CLIPModel\n",
    "\n",
    "# Define paths\n",
    "KEYSHOT_DIR = \"/Users/mario/Desktop/ece910/Wild-Bunch-output/keyshots\"\n",
    "ANNOTATION_CSV = \"/Users/mario/Desktop/ece910/Wild-Bunch-output/keyshot_annotations.csv\"\n",
    "\n",
    "# Load CLIP Model\n",
    "model = CLIPModel.from_pretrained(\"openai/clip-vit-base-patch32\")\n",
    "processor = CLIPProcessor.from_pretrained(\"openai/clip-vit-base-patch32\")\n",
    "\n",
    "# Define action categories\n",
    "ACTION_CATEGORIES = [\"Rescue\", \"Escape\", \"Capture\", \"Heist\", \"Fight\", \"Pursuit\", \"Speed\"]\n",
    "\n",
    "# Encode action categories as text embeddings\n",
    "action_inputs = processor(text=ACTION_CATEGORIES, return_tensors=\"pt\", padding=True)\n",
    "with torch.no_grad():\n",
    "    action_embeddings = model.get_text_features(**action_inputs)\n",
    "\n",
    "# Collect all keyshot file paths\n",
    "keyshots = sorted([os.path.join(KEYSHOT_DIR, f) for f in os.listdir(KEYSHOT_DIR) if f.endswith(('.jpg', '.png'))])\n",
    "\n",
    "# Function to classify keyshots\n",
    "def classify_keyshot(image_path):\n",
    "    \"\"\"Classify a keyshot into one of the action categories using CLIP.\"\"\"\n",
    "    image = Image.open(image_path).convert(\"RGB\")\n",
    "    inputs = processor(images=image, return_tensors=\"pt\")\n",
    "    \n",
    "    with torch.no_grad():\n",
    "        image_embedding = model.get_image_features(**inputs)\n",
    "\n",
    "    # Compute cosine similarity between image and action categories\n",
    "    similarity = torch.nn.functional.cosine_similarity(image_embedding, action_embeddings, dim=1)\n",
    "    \n",
    "    # Get the best-matching category\n",
    "    best_category_idx = torch.argmax(similarity).item()\n",
    "    return ACTION_CATEGORIES[best_category_idx]\n",
    "\n",
    "# Annotate all keyshots\n",
    "annotations = []\n",
    "for keyshot in tqdm(keyshots, desc=\"🔍 Annotating Keyshots\"):\n",
    "    action_label = classify_keyshot(keyshot)\n",
    "    annotations.append((keyshot, action_label))\n",
    "\n",
    "# Save annotations to CSV\n",
    "df = pd.DataFrame(annotations, columns=[\"file_path\", \"action_category\"])\n",
    "df.to_csv(ANNOTATION_CSV, index=False)\n",
    "\n",
    "print(f\"\\n✅ Automatic annotation complete! Annotations saved at: {ANNOTATION_CSV}\")"
   ]
  },
  {
   "cell_type": "markdown",
   "id": "a4d828bf",
   "metadata": {},
   "source": []
  },
  {
   "cell_type": "code",
   "execution_count": 14,
   "id": "4e4d4685",
   "metadata": {},
   "outputs": [
    {
     "name": "stdout",
     "output_type": "stream",
     "text": [
      "\n",
      "🔍 Checking column names before processing:\n",
      "Annotations DF Columns: ['file_path', 'action_category']\n",
      "Sequences DF Columns: ['sequence_id', 'start_frame', 'end_frame']\n",
      "Timestamps DF Columns: ['sequence_id', 'start_frame', 'end_frame', 'start_time', 'end_time', 'duration']\n",
      "\n",
      "✅ Action segmentation saved at: /Users/mario/Desktop/ece910/Wild-Bunch-output/action_segmentation.csv\n"
     ]
    }
   ],
   "source": [
    "import pandas as pd\n",
    "import json\n",
    "import os\n",
    "import re\n",
    "\n",
    "# Define file paths\n",
    "ANNOTATION_CSV = \"/Users/mario/Desktop/ece910/Wild-Bunch-output/keyshot_annotations.csv\"\n",
    "SEQUENCES_JSON = \"/Users/mario/Desktop/ece910/Wild-Bunch-output/WildBunch.json\"\n",
    "TIMESTAMPS_JSON = \"/Users/mario/Desktop/ece910/Wild-Bunch-output/WildBunch_timestamps.json\"\n",
    "SEGMENTATION_CSV = \"/Users/mario/Desktop/ece910/Wild-Bunch-output/action_segmentation.csv\"\n",
    "\n",
    "# ✅ Load keyshot annotations\n",
    "annotations_df = pd.read_csv(ANNOTATION_CSV)\n",
    "\n",
    "# ✅ Load sequence metadata from WildBunch.json\n",
    "with open(SEQUENCES_JSON, \"r\") as f:\n",
    "    sequences_data = json.load(f)\n",
    "\n",
    "# Convert JSON to DataFrame\n",
    "sequences_df = pd.DataFrame(sequences_data[\"sequences\"])\n",
    "\n",
    "# ✅ Load timestamps metadata from WildBunch_timestamps.json\n",
    "with open(TIMESTAMPS_JSON, \"r\") as f:\n",
    "    timestamps_data = json.load(f)\n",
    "\n",
    "# Convert JSON to DataFrame\n",
    "timestamps_df = pd.DataFrame(timestamps_data[\"sequences\"])\n",
    "\n",
    "# 🔍 Debugging: Print column names of each DataFrame\n",
    "print(\"\\n🔍 Checking column names before processing:\")\n",
    "print(\"Annotations DF Columns:\", annotations_df.columns.tolist())\n",
    "print(\"Sequences DF Columns:\", sequences_df.columns.tolist())\n",
    "print(\"Timestamps DF Columns:\", timestamps_df.columns.tolist())\n",
    "\n",
    "# 🔹 Extract \"sequence_id\" from file paths in keyshot_annotations.csv\n",
    "def extract_sequence_id(file_path):\n",
    "    \"\"\"Extracts sequence ID from file path (e.g., 'sequence_12/keyshots/frame_0.jpg' -> 12)\"\"\"\n",
    "    match = re.search(r'sequence_(\\d+)/keyshots', file_path)\n",
    "    return int(match.group(1)) if match else None\n",
    "\n",
    "# 🔹 Apply function to extract sequence ID\n",
    "annotations_df[\"sequence_id\"] = annotations_df[\"file_path\"].apply(extract_sequence_id)\n",
    "\n",
    "# 🔹 Convert sequence_id to int (handling NaN values)\n",
    "annotations_df[\"sequence_id\"] = pd.to_numeric(annotations_df[\"sequence_id\"], errors=\"coerce\").astype(\"Int64\")\n",
    "sequences_df[\"sequence_id\"] = pd.to_numeric(sequences_df[\"sequence_id\"], errors=\"coerce\").astype(\"Int64\")\n",
    "timestamps_df[\"sequence_id\"] = pd.to_numeric(timestamps_df[\"sequence_id\"], errors=\"coerce\").astype(\"Int64\")\n",
    "\n",
    "# 🔹 Merge sequence metadata with timestamps\n",
    "full_sequences_df = sequences_df.merge(timestamps_df, on=\"sequence_id\", how=\"outer\")\n",
    "\n",
    "# 🔹 Merge keyshots with sequence metadata\n",
    "merged_df = annotations_df.merge(full_sequences_df, on=\"sequence_id\", how=\"left\")\n",
    "\n",
    "# ✅ Save the final segmentation results\n",
    "merged_df.to_csv(SEGMENTATION_CSV, index=False)\n",
    "\n",
    "print(f\"\\n✅ Action segmentation saved at: {SEGMENTATION_CSV}\")"
   ]
  },
  {
   "cell_type": "markdown",
   "id": "acb67e94",
   "metadata": {},
   "source": [
    "Different thresholds for each   segmentation    "
   ]
  },
  {
   "cell_type": "markdown",
   "id": "f67387f7",
   "metadata": {},
   "source": []
  },
  {
   "cell_type": "code",
   "execution_count": 3,
   "id": "469dee3c",
   "metadata": {},
   "outputs": [
    {
     "name": "stdout",
     "output_type": "stream",
     "text": [
      "\n",
      "🔍 Detecting shot boundaries...\n",
      "✅ Detected 1857 sequences.\n",
      "\n",
      "📂 Organizing frames into sequences...\n",
      "\n"
     ]
    },
    {
     "name": "stderr",
     "output_type": "stream",
     "text": [
      "📂 Organizing Sequences: 100%|██████████| 1857/1857 [08:11<00:00,  3.78it/s]\n"
     ]
    },
    {
     "name": "stdout",
     "output_type": "stream",
     "text": [
      "\n",
      "✅ JSON metadata saved at: /Users/mario/Desktop/ece910/Wild-Bunch-output/WildBunch.json\n",
      "\n",
      "🔑 Extracting keyshots with multiple thresholds...\n",
      "\n",
      "\n",
      "🚀 Running with Hist_Threshold=0.2 | SigLIP_Threshold=0.75\n"
     ]
    },
    {
     "name": "stderr",
     "output_type": "stream",
     "text": [
      "🔑 Processing Sequences: 100%|██████████| 1857/1857 [08:50<00:00,  3.50it/s] \n"
     ]
    },
    {
     "name": "stdout",
     "output_type": "stream",
     "text": [
      "\n",
      "🚀 Running with Hist_Threshold=0.2 | SigLIP_Threshold=0.8\n"
     ]
    },
    {
     "name": "stderr",
     "output_type": "stream",
     "text": [
      "🔑 Processing Sequences: 100%|██████████| 1857/1857 [05:40<00:00,  5.46it/s]\n"
     ]
    },
    {
     "name": "stdout",
     "output_type": "stream",
     "text": [
      "\n",
      "🚀 Running with Hist_Threshold=0.2 | SigLIP_Threshold=0.85\n"
     ]
    },
    {
     "name": "stderr",
     "output_type": "stream",
     "text": [
      "🔑 Processing Sequences: 100%|██████████| 1857/1857 [05:42<00:00,  5.42it/s]\n"
     ]
    },
    {
     "name": "stdout",
     "output_type": "stream",
     "text": [
      "\n",
      "🚀 Running with Hist_Threshold=0.2 | SigLIP_Threshold=0.9\n"
     ]
    },
    {
     "name": "stderr",
     "output_type": "stream",
     "text": [
      "🔑 Processing Sequences: 100%|██████████| 1857/1857 [05:40<00:00,  5.45it/s]\n"
     ]
    },
    {
     "name": "stdout",
     "output_type": "stream",
     "text": [
      "\n",
      "🚀 Running with Hist_Threshold=0.3 | SigLIP_Threshold=0.75\n"
     ]
    },
    {
     "name": "stderr",
     "output_type": "stream",
     "text": [
      "🔑 Processing Sequences: 100%|██████████| 1857/1857 [04:54<00:00,  6.30it/s]\n"
     ]
    },
    {
     "name": "stdout",
     "output_type": "stream",
     "text": [
      "\n",
      "🚀 Running with Hist_Threshold=0.3 | SigLIP_Threshold=0.8\n"
     ]
    },
    {
     "name": "stderr",
     "output_type": "stream",
     "text": [
      "🔑 Processing Sequences: 100%|██████████| 1857/1857 [04:49<00:00,  6.41it/s]\n"
     ]
    },
    {
     "name": "stdout",
     "output_type": "stream",
     "text": [
      "\n",
      "🚀 Running with Hist_Threshold=0.3 | SigLIP_Threshold=0.85\n"
     ]
    },
    {
     "name": "stderr",
     "output_type": "stream",
     "text": [
      "🔑 Processing Sequences: 100%|██████████| 1857/1857 [04:54<00:00,  6.30it/s]\n"
     ]
    },
    {
     "name": "stdout",
     "output_type": "stream",
     "text": [
      "\n",
      "🚀 Running with Hist_Threshold=0.3 | SigLIP_Threshold=0.9\n"
     ]
    },
    {
     "name": "stderr",
     "output_type": "stream",
     "text": [
      "🔑 Processing Sequences: 100%|██████████| 1857/1857 [04:50<00:00,  6.40it/s]\n"
     ]
    },
    {
     "name": "stdout",
     "output_type": "stream",
     "text": [
      "\n",
      "🚀 Running with Hist_Threshold=0.4 | SigLIP_Threshold=0.75\n"
     ]
    },
    {
     "name": "stderr",
     "output_type": "stream",
     "text": [
      "🔑 Processing Sequences: 100%|██████████| 1857/1857 [04:25<00:00,  7.00it/s]\n"
     ]
    },
    {
     "name": "stdout",
     "output_type": "stream",
     "text": [
      "\n",
      "🚀 Running with Hist_Threshold=0.4 | SigLIP_Threshold=0.8\n"
     ]
    },
    {
     "name": "stderr",
     "output_type": "stream",
     "text": [
      "🔑 Processing Sequences: 100%|██████████| 1857/1857 [04:15<00:00,  7.28it/s]\n"
     ]
    },
    {
     "name": "stdout",
     "output_type": "stream",
     "text": [
      "\n",
      "🚀 Running with Hist_Threshold=0.4 | SigLIP_Threshold=0.85\n"
     ]
    },
    {
     "name": "stderr",
     "output_type": "stream",
     "text": [
      "🔑 Processing Sequences: 100%|██████████| 1857/1857 [04:16<00:00,  7.25it/s]\n"
     ]
    },
    {
     "name": "stdout",
     "output_type": "stream",
     "text": [
      "\n",
      "🚀 Running with Hist_Threshold=0.4 | SigLIP_Threshold=0.9\n"
     ]
    },
    {
     "name": "stderr",
     "output_type": "stream",
     "text": [
      "🔑 Processing Sequences: 100%|██████████| 1857/1857 [04:24<00:00,  7.02it/s]\n"
     ]
    },
    {
     "name": "stdout",
     "output_type": "stream",
     "text": [
      "\n",
      "🚀 Running with Hist_Threshold=0.5 | SigLIP_Threshold=0.75\n"
     ]
    },
    {
     "name": "stderr",
     "output_type": "stream",
     "text": [
      "🔑 Processing Sequences: 100%|██████████| 1857/1857 [04:01<00:00,  7.70it/s]\n"
     ]
    },
    {
     "name": "stdout",
     "output_type": "stream",
     "text": [
      "\n",
      "🚀 Running with Hist_Threshold=0.5 | SigLIP_Threshold=0.8\n"
     ]
    },
    {
     "name": "stderr",
     "output_type": "stream",
     "text": [
      "🔑 Processing Sequences: 100%|██████████| 1857/1857 [03:59<00:00,  7.76it/s]\n"
     ]
    },
    {
     "name": "stdout",
     "output_type": "stream",
     "text": [
      "\n",
      "🚀 Running with Hist_Threshold=0.5 | SigLIP_Threshold=0.85\n"
     ]
    },
    {
     "name": "stderr",
     "output_type": "stream",
     "text": [
      "🔑 Processing Sequences: 100%|██████████| 1857/1857 [04:24<00:00,  7.03it/s]\n"
     ]
    },
    {
     "name": "stdout",
     "output_type": "stream",
     "text": [
      "\n",
      "🚀 Running with Hist_Threshold=0.5 | SigLIP_Threshold=0.9\n"
     ]
    },
    {
     "name": "stderr",
     "output_type": "stream",
     "text": [
      "🔑 Processing Sequences: 100%|██████████| 1857/1857 [04:07<00:00,  7.50it/s]\n"
     ]
    },
    {
     "name": "stdout",
     "output_type": "stream",
     "text": [
      "\n",
      "✅ Batch testing complete!\n",
      "\n",
      "📊 Results saved at: /Users/mario/Desktop/ece910/Wild-Bunch-output/threshold_results.csv\n"
     ]
    }
   ],
   "source": [
    "import os\n",
    "import cv2\n",
    "import json\n",
    "import numpy as np\n",
    "import shutil\n",
    "import torch\n",
    "import pandas as pd\n",
    "from tqdm import tqdm\n",
    "from PIL import Image\n",
    "from transformers import CLIPProcessor, CLIPModel\n",
    "from scenedetect import detect, ContentDetector\n",
    "import time\n",
    "\n",
    "# Define paths\n",
    "INPUT_DIR = \"/Users/mario/Desktop/ece910/Wild-Bunch-output/Frames-extraction\"\n",
    "             \n",
    "OUTPUT_DIR = \"/Users/mario/Desktop/ece910/Wild-Bunch-output/histogram-output-sequences\"\n",
    "VIDEO_PATH = \"/Users/mario/Desktop/ece910/Wild-Bunch-output/TheWildBunch(1969).mp4\"\n",
    "JSON_PATH = \"/Users/mario/Desktop/ece910/Wild-Bunch-output/WildBunch.json\"\n",
    "RESULTS_CSV = \"/Users/mario/Desktop/ece910/Wild-Bunch-output/threshold_results.csv\"\n",
    "\n",
    "# Ensure output directory exists\n",
    "os.makedirs(OUTPUT_DIR, exist_ok=True)\n",
    "\n",
    "# Load CLIP (SigLIP) model\n",
    "model = CLIPModel.from_pretrained(\"openai/clip-vit-base-patch32\")\n",
    "processor = CLIPProcessor.from_pretrained(\"openai/clip-vit-base-patch32\")\n",
    "\n",
    "# Function to extract image embeddings using SigLIP\n",
    "def get_image_embedding(image_path):\n",
    "    \"\"\"Extract embedding from an image using SigLIP (CLIP).\"\"\"\n",
    "    image = Image.open(image_path).convert(\"RGB\")\n",
    "    inputs = processor(images=image, return_tensors=\"pt\")\n",
    "    with torch.no_grad():\n",
    "        embedding = model.get_image_features(**inputs)\n",
    "    return embedding.squeeze()\n",
    "\n",
    "# Step 1: Detect shot boundaries using PySceneDetect\n",
    "def detect_shot_boundaries(video_path):\n",
    "    print(\"\\n🔍 Detecting shot boundaries...\")\n",
    "    scene_list = detect(video_path, ContentDetector())\n",
    "    boundaries = [(scene[0].get_frames(), scene[1].get_frames()) for scene in scene_list]\n",
    "    print(f\"✅ Detected {len(boundaries)} sequences.\\n\")\n",
    "    return boundaries\n",
    "\n",
    "# Step 2: Organize frames into sequences\n",
    "def organize_frames_by_sequence(frame_dir, boundaries):\n",
    "    print(\"📂 Organizing frames into sequences...\\n\")\n",
    "    frames = sorted([f for f in os.listdir(frame_dir) if f.endswith(\".jpg\") or f.endswith(\".png\")])\n",
    "    \n",
    "    sequences_metadata = {\"sequences\": []}\n",
    "\n",
    "    for i, (start, end) in tqdm(enumerate(boundaries, 1), total=len(boundaries), desc=\"📂 Organizing Sequences\"):\n",
    "        seq_dir = os.path.join(OUTPUT_DIR, f\"sequence_{i}\")\n",
    "        os.makedirs(seq_dir, exist_ok=True)\n",
    "\n",
    "        for frame in frames:\n",
    "            frame_num = int(frame.split(\".\")[0].replace(\"frame_\", \"\"))\n",
    "            if start <= frame_num <= end:\n",
    "                shutil.copy(os.path.join(frame_dir, frame), os.path.join(seq_dir, frame))\n",
    "\n",
    "        sequences_metadata[\"sequences\"].append({\n",
    "            \"sequence_id\": i,\n",
    "            \"start_frame\": start,\n",
    "            \"end_frame\": end\n",
    "        })\n",
    "\n",
    "    # Save JSON file\n",
    "    with open(JSON_PATH, \"w\") as json_file:\n",
    "        json.dump(sequences_metadata, json_file, indent=4)\n",
    "\n",
    "    print(f\"\\n✅ JSON metadata saved at: {JSON_PATH}\")\n",
    "\n",
    "# Step 3: Extract keyshots for different threshold values\n",
    "def extract_keyshots(sequence_dir, hist_threshold, siglip_threshold, method=\"BHATTACHARYYA\"):\n",
    "    \"\"\"\n",
    "    Extract keyshots using Histogram + SigLIP (CLIP) features.\n",
    "    Varies threshold dynamically for batch evaluation.\n",
    "\n",
    "    Parameters:\n",
    "        sequence_dir (str): Path to the sequence directory.\n",
    "        hist_threshold (float): Histogram threshold.\n",
    "        siglip_threshold (float): Cosine similarity threshold.\n",
    "        method (str): Histogram comparison method.\n",
    "\n",
    "    Returns:\n",
    "        list: List of keyshot file paths.\n",
    "    \"\"\"\n",
    "    frames = sorted([f for f in os.listdir(sequence_dir) if f.endswith(\".jpg\") or f.endswith(\".png\")])\n",
    "    keyshots = []\n",
    "\n",
    "    if not frames:\n",
    "        return keyshots\n",
    "\n",
    "    prev_hist = None\n",
    "    prev_embedding = None\n",
    "\n",
    "    for frame in tqdm(frames, desc=f\"📸 Extracting Keyshots ({os.path.basename(sequence_dir)})\", leave=False):\n",
    "        frame_path = os.path.join(sequence_dir, frame)\n",
    "        image = cv2.imread(frame_path, cv2.IMREAD_GRAYSCALE)\n",
    "\n",
    "        hist = cv2.calcHist([image], [0], None, [256], [0, 256])\n",
    "        hist = cv2.normalize(hist, hist).flatten()\n",
    "\n",
    "        if prev_hist is None:\n",
    "            keyshots.append(frame_path)\n",
    "            prev_hist = hist\n",
    "            prev_embedding = get_image_embedding(frame_path)\n",
    "            continue\n",
    "\n",
    "        # Choose histogram method dynamically\n",
    "        if method == \"BHATTACHARYYA\":\n",
    "            hist_diff = cv2.compareHist(prev_hist, hist, cv2.HISTCMP_BHATTACHARYYA)\n",
    "        elif method == \"CHISQR\":\n",
    "            hist_diff = cv2.compareHist(prev_hist, hist, cv2.HISTCMP_CHISQR)\n",
    "        elif method == \"CORREL\":\n",
    "            hist_diff = cv2.compareHist(prev_hist, hist, cv2.HISTCMP_CORREL)\n",
    "\n",
    "        # Use histogram difference\n",
    "        if hist_diff > hist_threshold:\n",
    "            curr_embedding = get_image_embedding(frame_path)\n",
    "            similarity = torch.nn.functional.cosine_similarity(prev_embedding, curr_embedding, dim=0)\n",
    "\n",
    "            # Use SigLIP filtering\n",
    "            if similarity < siglip_threshold:\n",
    "                keyshots.append(frame_path)\n",
    "                prev_embedding = curr_embedding\n",
    "\n",
    "        prev_hist = hist  # Update previous histogram\n",
    "\n",
    "    return keyshots\n",
    "\n",
    "\n",
    "# 🚀 **Run tests with multiple thresholds**\n",
    "if __name__ == \"__main__\":\n",
    "    boundaries = detect_shot_boundaries(VIDEO_PATH)\n",
    "    organize_frames_by_sequence(INPUT_DIR, boundaries)\n",
    "\n",
    "    hist_thresholds = [0.2, 0.3, 0.4, 0.5]  # Different thresholds for histogram\n",
    "    siglip_thresholds = [0.75, 0.8, 0.85, 0.9]  # Different SigLIP similarity thresholds\n",
    "\n",
    "    results = []\n",
    "\n",
    "    print(\"\\n🔑 Extracting keyshots with multiple thresholds...\\n\")\n",
    "    \n",
    "    for hist_thresh in hist_thresholds:\n",
    "        for siglip_thresh in siglip_thresholds:\n",
    "            start_time = time.time()\n",
    "            print(f\"\\n🚀 Running with Hist_Threshold={hist_thresh} | SigLIP_Threshold={siglip_thresh}\")\n",
    "\n",
    "            total_keyshots = 0\n",
    "            for seq in tqdm(os.listdir(OUTPUT_DIR), desc=f\"🔑 Processing Sequences\"):\n",
    "                seq_path = os.path.join(OUTPUT_DIR, seq)\n",
    "                keyshots = extract_keyshots(seq_path, hist_threshold=hist_thresh, siglip_threshold=siglip_thresh)\n",
    "\n",
    "                total_keyshots += len(keyshots)\n",
    "\n",
    "                # Save keyshots in separate folder\n",
    "                keyshot_dir = os.path.join(seq_path, \"keyshots\")\n",
    "                os.makedirs(keyshot_dir, exist_ok=True)\n",
    "\n",
    "                for shot in keyshots:\n",
    "                    shutil.copy(shot, os.path.join(keyshot_dir, os.path.basename(shot)))\n",
    "\n",
    "            end_time = time.time()\n",
    "            runtime = round(end_time - start_time, 2)\n",
    "\n",
    "            results.append({\n",
    "                \"Hist_Threshold\": hist_thresh,\n",
    "                \"SigLIP_Threshold\": siglip_thresh,\n",
    "                \"Total_Keyshots\": total_keyshots,\n",
    "                \"Runtime_Seconds\": runtime\n",
    "            })\n",
    "\n",
    "    # Convert results to DataFrame\n",
    "    results_df = pd.DataFrame(results)\n",
    "    \n",
    "    # Save results to CSV\n",
    "    results_df.to_csv(RESULTS_CSV, index=False)\n",
    "\n",
    "    print(\"\\n✅ Batch testing complete!\")\n",
    "    print(f\"\\n📊 Results saved at: {RESULTS_CSV}\")"
   ]
  },
  {
   "cell_type": "code",
   "execution_count": 4,
   "id": "1e8ce068",
   "metadata": {},
   "outputs": [
    {
     "data": {
      "image/png": "[encoded data removed]",
      "text/plain": [
       "<Figure size 800x600 with 1 Axes>"
      ]
     },
     "metadata": {},
     "output_type": "display_data"
    },
    {
     "name": "stderr",
     "output_type": "stream",
     "text": [
      "/Users/mario/.pyenv/versions/3.10.13/lib/python3.10/site-packages/seaborn/_base.py:948: FutureWarning: When grouping with a length-1 list-like, you will need to pass a length-1 tuple to get_group in a future version of pandas. Pass `(name,)` instead of `name` to silence this warning.\n",
      "  data_subset = grouped_data.get_group(pd_key)\n",
      "/Users/mario/.pyenv/versions/3.10.13/lib/python3.10/site-packages/seaborn/_base.py:948: FutureWarning: When grouping with a length-1 list-like, you will need to pass a length-1 tuple to get_group in a future version of pandas. Pass `(name,)` instead of `name` to silence this warning.\n",
      "  data_subset = grouped_data.get_group(pd_key)\n",
      "/Users/mario/.pyenv/versions/3.10.13/lib/python3.10/site-packages/seaborn/_base.py:948: FutureWarning: When grouping with a length-1 list-like, you will need to pass a length-1 tuple to get_group in a future version of pandas. Pass `(name,)` instead of `name` to silence this warning.\n",
      "  data_subset = grouped_data.get_group(pd_key)\n",
      "/Users/mario/.pyenv/versions/3.10.13/lib/python3.10/site-packages/seaborn/_base.py:948: FutureWarning: When grouping with a length-1 list-like, you will need to pass a length-1 tuple to get_group in a future version of pandas. Pass `(name,)` instead of `name` to silence this warning.\n",
      "  data_subset = grouped_data.get_group(pd_key)\n"
     ]
    },
    {
     "data": {
      "image/png": "[encoded data removed]",
      "text/plain": [
       "<Figure size 800x600 with 1 Axes>"
      ]
     },
     "metadata": {},
     "output_type": "display_data"
    },
    {
     "name": "stderr",
     "output_type": "stream",
     "text": [
      "/Users/mario/.pyenv/versions/3.10.13/lib/python3.10/site-packages/seaborn/_base.py:948: FutureWarning: When grouping with a length-1 list-like, you will need to pass a length-1 tuple to get_group in a future version of pandas. Pass `(name,)` instead of `name` to silence this warning.\n",
      "  data_subset = grouped_data.get_group(pd_key)\n",
      "/Users/mario/.pyenv/versions/3.10.13/lib/python3.10/site-packages/seaborn/_base.py:948: FutureWarning: When grouping with a length-1 list-like, you will need to pass a length-1 tuple to get_group in a future version of pandas. Pass `(name,)` instead of `name` to silence this warning.\n",
      "  data_subset = grouped_data.get_group(pd_key)\n",
      "/Users/mario/.pyenv/versions/3.10.13/lib/python3.10/site-packages/seaborn/_base.py:948: FutureWarning: When grouping with a length-1 list-like, you will need to pass a length-1 tuple to get_group in a future version of pandas. Pass `(name,)` instead of `name` to silence this warning.\n",
      "  data_subset = grouped_data.get_group(pd_key)\n",
      "/Users/mario/.pyenv/versions/3.10.13/lib/python3.10/site-packages/seaborn/_base.py:948: FutureWarning: When grouping with a length-1 list-like, you will need to pass a length-1 tuple to get_group in a future version of pandas. Pass `(name,)` instead of `name` to silence this warning.\n",
      "  data_subset = grouped_data.get_group(pd_key)\n"
     ]
    },
    {
     "data": {
      "image/png": "[encoded data removed]",
      "text/plain": [
       "<Figure size 800x600 with 1 Axes>"
      ]
     },
     "metadata": {},
     "output_type": "display_data"
    },
    {
     "data": {
      "image/png": "[encoded data removed]",
      "text/plain": [
       "<Figure size 600x500 with 2 Axes>"
      ]
     },
     "metadata": {},
     "output_type": "display_data"
    },
    {
     "name": "stdout",
     "output_type": "stream",
     "text": [
      "\n",
      "✅ Analysis complete. Results saved to /Users/mario/Desktop/ece910/Wild-Bunch-output/threshold_analysis_results.csv\n"
     ]
    }
   ],
   "source": [
    "import pandas as pd\n",
    "import matplotlib.pyplot as plt\n",
    "import seaborn as sns\n",
    "\n",
    "# ✅ Load the threshold results from your CSV file\n",
    "threshold_results_path = \"/Users/mario/Desktop/ece910/Wild-Bunch-output/threshold_results.csv\"\n",
    "threshold_df = pd.read_csv(threshold_results_path)\n",
    "\n",
    "# 📊 1. Plot Total Keyshots vs. Runtime\n",
    "plt.figure(figsize=(8, 6))\n",
    "sns.scatterplot(x=threshold_df[\"Total_Keyshots\"], y=threshold_df[\"Runtime_Seconds\"], hue=threshold_df[\"Hist_Threshold\"], palette=\"viridis\")\n",
    "plt.title(\"Total Keyshots vs. Runtime for Different Hist_Thresholds\")\n",
    "plt.xlabel(\"Total Keyshots\")\n",
    "plt.ylabel(\"Runtime (Seconds)\")\n",
    "plt.legend(title=\"Hist_Threshold\")\n",
    "plt.grid(True)\n",
    "plt.show()\n",
    "\n",
    "# 📊 2. Analyze Impact of Hist_Threshold on Runtime\n",
    "plt.figure(figsize=(8, 6))\n",
    "sns.lineplot(data=threshold_df, x=\"Hist_Threshold\", y=\"Runtime_Seconds\", hue=\"SigLIP_Threshold\", marker=\"o\")\n",
    "plt.title(\"Effect of Hist_Threshold on Runtime\")\n",
    "plt.xlabel(\"Hist_Threshold\")\n",
    "plt.ylabel(\"Runtime (Seconds)\")\n",
    "plt.grid(True)\n",
    "plt.show()\n",
    "\n",
    "# 📊 3. Analyze Impact of SigLIP_Threshold on Total Keyshots\n",
    "plt.figure(figsize=(8, 6))\n",
    "sns.lineplot(data=threshold_df, x=\"SigLIP_Threshold\", y=\"Total_Keyshots\", hue=\"Hist_Threshold\", marker=\"o\")\n",
    "plt.title(\"Effect of SigLIP_Threshold on Total Keyshots\")\n",
    "plt.xlabel(\"SigLIP_Threshold\")\n",
    "plt.ylabel(\"Total Keyshots\")\n",
    "plt.grid(True)\n",
    "plt.show()\n",
    "\n",
    "# 📊 4. Correlation Analysis\n",
    "corr_matrix = threshold_df.corr()\n",
    "plt.figure(figsize=(6, 5))\n",
    "sns.heatmap(corr_matrix, annot=True, cmap=\"coolwarm\", fmt=\".2f\")\n",
    "plt.title(\"Correlation Matrix\")\n",
    "plt.show()\n",
    "\n",
    "# ✅ Save processed results\n",
    "output_csv_path = \"/Users/mario/Desktop/ece910/Wild-Bunch-output/threshold_analysis_results.csv\"\n",
    "threshold_df.to_csv(output_csv_path, index=False)\n",
    "print(f\"\\n✅ Analysis complete. Results saved to {output_csv_path}\")"
   ]
  },
  {
   "cell_type": "code",
   "execution_count": null,
   "id": "8b032f85",
   "metadata": {},
   "outputs": [],
   "source": []
  },
  {
   "cell_type": "code",
   "execution_count": 13,
   "id": "8562e6c7",
   "metadata": {},
   "outputs": [
    {
     "name": "stdout",
     "output_type": "stream",
     "text": [
      "\n",
      "📊 Statistical summary saved at: /Users/mario/Desktop/ece910/Wild-Bunch-output/threshold_stats_summary.csv\n",
      "\n",
      "🔍 Best Threshold for Minimum Runtime:\n",
      "Hist_Threshold         0.5\n",
      "SigLIP_Threshold       0.8\n",
      "Total_Keyshots      1975.0\n",
      "Runtime_Seconds      239.3\n",
      "Name: 13, dtype: float64\n",
      "\n",
      "🔍 Best Threshold for Maximum Keyshots:\n",
      "Hist_Threshold         0.20\n",
      "SigLIP_Threshold       0.90\n",
      "Total_Keyshots      4014.00\n",
      "Runtime_Seconds      340.55\n",
      "Name: 3, dtype: float64\n"
     ]
    },
    {
     "data": {
      "image/png": "[encoded data removed]",
      "text/plain": [
       "<Figure size 1000x500 with 2 Axes>"
      ]
     },
     "metadata": {},
     "output_type": "display_data"
    },
    {
     "name": "stdout",
     "output_type": "stream",
     "text": [
      "\n",
      "✅ Plot saved at: /Users/mario/Desktop/ece910/Wild-Bunch-output/threshold_analysis_plot.png\n"
     ]
    }
   ],
   "source": [
    "import pandas as pd\n",
    "import matplotlib.pyplot as plt\n",
    "\n",
    "# Define file path\n",
    "RESULTS_CSV = \"/Users/mario/Desktop/ece910/Wild-Bunch-output/threshold_analysis_results.csv\"\n",
    "\n",
    "# ✅ Load the results CSV\n",
    "df_results = pd.read_csv(RESULTS_CSV)\n",
    "\n",
    "# ✅ Generate descriptive statistics\n",
    "stats_summary = df_results.describe()\n",
    "\n",
    "# ✅ Save statistical summary\n",
    "STATS_CSV = \"/Users/mario/Desktop/ece910/Wild-Bunch-output/threshold_stats_summary.csv\"\n",
    "stats_summary.to_csv(STATS_CSV, index=True)\n",
    "print(f\"\\n📊 Statistical summary saved at: {STATS_CSV}\")\n",
    "\n",
    "# ✅ Find best thresholds based on minimum runtime and maximum keyshots\n",
    "best_runtime = df_results.loc[df_results[\"Runtime_Seconds\"].idxmin()]\n",
    "best_keyshots = df_results.loc[df_results[\"Total_Keyshots\"].idxmax()]\n",
    "\n",
    "print(\"\\n🔍 Best Threshold for Minimum Runtime:\")\n",
    "print(best_runtime)\n",
    "\n",
    "print(\"\\n🔍 Best Threshold for Maximum Keyshots:\")\n",
    "print(best_keyshots)\n",
    "\n",
    "# ✅ Visualization: Keyshots vs. Runtime\n",
    "plt.figure(figsize=(10, 5))\n",
    "plt.scatter(df_results[\"Runtime_Seconds\"], df_results[\"Total_Keyshots\"], c=df_results[\"Hist_Threshold\"], cmap=\"viridis\", edgecolors=\"black\")\n",
    "plt.colorbar(label=\"Hist_Threshold\")\n",
    "plt.xlabel(\"Runtime (Seconds)\")\n",
    "plt.ylabel(\"Total Keyshots\")\n",
    "plt.title(\"Threshold Analysis: Keyshots vs. Runtime\")\n",
    "plt.grid(True)\n",
    "PLOT_PATH = \"/Users/mario/Desktop/ece910/Wild-Bunch-output/threshold_analysis_plot.png\"\n",
    "plt.savefig(PLOT_PATH)\n",
    "plt.show()\n",
    "\n",
    "print(f\"\\n✅ Plot saved at: {PLOT_PATH}\")"
   ]
  },
  {
   "cell_type": "code",
   "execution_count": 18,
   "id": "339f265c",
   "metadata": {},
   "outputs": [
    {
     "name": "stdout",
     "output_type": "stream",
     "text": [
      "\n",
      "🔍 Threshold Stats Columns: Index(['Unnamed: 0', 'Hist_Threshold', 'SigLIP_Threshold', 'Total_Keyshots',\n",
      "       'Runtime_Seconds'],\n",
      "      dtype='object')\n",
      "\n",
      "🔍 Ground Truth Columns: Index(['Start', 'End', 'Action'], dtype='object')\n",
      "\n",
      "⚠️ 'Total_Keyshots' not found in ground truth. Estimating based on timestamps...\n",
      "\n",
      "⚠️ 'Runtime_Seconds' not found in ground truth. Estimating as (End - Start)...\n",
      "\n",
      "🔍 Statistical Summary:\n",
      "       Hist_Threshold  SigLIP_Threshold  Total_Keyshots  Runtime_Seconds  \\\n",
      "count        8.000000          8.000000        8.000000         8.000000   \n",
      "mean         2.276934          2.625967     2014.791542       249.154678   \n",
      "std          5.546288          5.410777     1245.427641       156.549160   \n",
      "min          0.115470          0.057735       16.000000        16.000000   \n",
      "25%          0.256250          0.778125     1613.583084       197.241699   \n",
      "50%          0.350000          0.825000     2157.375000       266.620000   \n",
      "75%          0.443750          0.871875     2545.437500       299.509219   \n",
      "max         16.000000         16.000000     4014.000000       530.170000   \n",
      "\n",
      "       Error_Keyshots  Error_Runtime  \n",
      "count        8.000000       8.000000  \n",
      "mean      2014.541542     242.404678  \n",
      "std       1245.604055     159.544668  \n",
      "min         15.000000       2.000000  \n",
      "25%       1613.583084     191.991699  \n",
      "50%       2157.375000     263.620000  \n",
      "75%       2544.687500     288.759219  \n",
      "max       4014.000000     528.170000  \n",
      "\n",
      "🏆 Best Threshold Settings:\n",
      "Unnamed: 0          count\n",
      "Hist_Threshold       16.0\n",
      "SigLIP_Threshold     16.0\n",
      "Total_Keyshots       16.0\n",
      "Runtime_Seconds      16.0\n",
      "Error_Keyshots       15.0\n",
      "Error_Runtime         2.0\n",
      "Name: 0, dtype: object\n",
      "\n",
      "✅ Comparison results saved at: /Users/mario/Desktop/ece910/Wild-Bunch-output/threshold_comparison_results.csv\n"
     ]
    }
   ],
   "source": [
    "import pandas as pd\n",
    "import json\n",
    "\n",
    "# Load the datasets\n",
    "threshold_stats_path = \"/Users/mario/Desktop/ece910/Wild-Bunch-output/threshold_stats_summary.csv\"\n",
    "ground_truth_path = \"/Users/mario/Desktop/ece910/Wild-Bunch-output/wild_bunch_2.csv\"\n",
    "timestamps_path = \"/Users/mario/Desktop/ece910/Wild-Bunch-output/WildBunch_timestamps.json\"\n",
    "\n",
    "# Load Threshold Analysis Results\n",
    "df_threshold = pd.read_csv(threshold_stats_path)\n",
    "\n",
    "# Load Ground Truth\n",
    "df_ground_truth = pd.read_csv(ground_truth_path)\n",
    "\n",
    "# Load JSON file (previous results)\n",
    "with open(timestamps_path, \"r\") as file:\n",
    "    json_data = json.load(file)\n",
    "\n",
    "df_old_results = pd.DataFrame(json_data[\"sequences\"])\n",
    "\n",
    "# Print Column Names for Debugging\n",
    "print(\"\\n🔍 Threshold Stats Columns:\", df_threshold.columns)\n",
    "print(\"\\n🔍 Ground Truth Columns:\", df_ground_truth.columns)\n",
    "\n",
    "# Convert JSON timestamps to seconds\n",
    "df_old_results[\"start_time\"] = df_old_results[\"start_time\"].str.replace(\" sec\", \"\").astype(float)\n",
    "df_old_results[\"end_time\"] = df_old_results[\"end_time\"].str.replace(\" sec\", \"\").astype(float)\n",
    "\n",
    "# Convert ground truth timestamps to numeric\n",
    "df_ground_truth[\"Start\"] = pd.to_timedelta(df_ground_truth[\"Start\"]).dt.total_seconds()\n",
    "df_ground_truth[\"End\"] = pd.to_timedelta(df_ground_truth[\"End\"]).dt.total_seconds()\n",
    "\n",
    "# If 'Total_Keyshots' is missing, estimate based on timestamps\n",
    "if \"Total_Keyshots\" not in df_ground_truth.columns:\n",
    "    print(\"\\n⚠️ 'Total_Keyshots' not found in ground truth. Estimating based on timestamps...\")\n",
    "\n",
    "    # Count the number of shots in each time range\n",
    "    df_ground_truth[\"Total_Keyshots\"] = df_ground_truth.apply(\n",
    "        lambda row: ((df_old_results[\"start_time\"] >= row[\"Start\"]) & (df_old_results[\"end_time\"] <= row[\"End\"])).sum(),\n",
    "        axis=1\n",
    "    )\n",
    "\n",
    "# If 'Runtime_Seconds' is missing in ground truth, calculate it\n",
    "if \"Runtime_Seconds\" not in df_ground_truth.columns:\n",
    "    print(\"\\n⚠️ 'Runtime_Seconds' not found in ground truth. Estimating as (End - Start)...\")\n",
    "    df_ground_truth[\"Runtime_Seconds\"] = df_ground_truth[\"End\"] - df_ground_truth[\"Start\"]\n",
    "\n",
    "# Compute Error Metrics\n",
    "df_threshold[\"Error_Keyshots\"] = (df_threshold[\"Total_Keyshots\"] - df_ground_truth[\"Total_Keyshots\"]).abs()\n",
    "df_threshold[\"Error_Runtime\"] = (df_threshold[\"Runtime_Seconds\"] - df_ground_truth[\"Runtime_Seconds\"]).abs()\n",
    "\n",
    "# Generate Descriptive Statistics\n",
    "stats_summary = df_threshold.describe()\n",
    "\n",
    "# Identify Best Threshold (Lowest Error)\n",
    "best_threshold = df_threshold.loc[df_threshold[\"Error_Keyshots\"].idxmin()]\n",
    "\n",
    "# Save the comparison results\n",
    "comparison_csv_path = \"/Users/mario/Desktop/ece910/Wild-Bunch-output/threshold_comparison_results.csv\"\n",
    "stats_summary.to_csv(comparison_csv_path, index=True)\n",
    "\n",
    "# Print insights\n",
    "print(\"\\n🔍 Statistical Summary:\")\n",
    "print(stats_summary)\n",
    "\n",
    "print(\"\\n🏆 Best Threshold Settings:\")\n",
    "print(best_threshold)\n",
    "\n",
    "print(f\"\\n✅ Comparison results saved at: {comparison_csv_path}\")"
   ]
  },
  {
   "cell_type": "code",
   "execution_count": null,
   "id": "03c3f1a3",
   "metadata": {},
   "outputs": [],
   "source": []
  },
  {
   "cell_type": "code",
   "execution_count": null,
   "id": "85c9d68c",
   "metadata": {},
   "outputs": [],
   "source": []
  }
 ],
 "metadata": {
  "kernelspec": {
   "display_name": "Python 3",
   "language": "python",
   "name": "python3"
  },
  "language_info": {
   "codemirror_mode": {
    "name": "ipython",
    "version": 3
   },
   "file_extension": ".py",
   "mimetype": "text/x-python",
   "name": "python",
   "nbconvert_exporter": "python",
   "pygments_lexer": "ipython3",
   "version": "3.10.13"
  }
 },
 "nbformat": 4,
 "nbformat_minor": 5
}
